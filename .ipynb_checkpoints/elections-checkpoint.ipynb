{
 "cells": [
  {
   "cell_type": "code",
   "execution_count": null,
   "metadata": {},
   "outputs": [],
   "source": [
    "import numpy as np, pandas as pd\n",
    "from datetime import datetime"
   ]
  },
  {
   "cell_type": "code",
   "execution_count": null,
   "metadata": {},
   "outputs": [],
   "source": [
    "df = pd.read_csv(r\"elections_final.csv\",encoding = \"cp1255\")"
   ]
  },
  {
   "cell_type": "markdown",
   "metadata": {},
   "source": [
    "###assign"
   ]
  },
  {
   "cell_type": "code",
   "execution_count": null,
   "metadata": {},
   "outputs": [],
   "source": [
    "tav = df.columns[16]\n",
    "naz = df.columns[27]\n",
    "meretz = df.columns[25]\n",
    "likud = df.columns[24]\n",
    "liberman = df.columns[23]\n",
    "benet = df.columns[26]\n",
    "nun_cols = df.columns[[27,28,29,31]].tolist()\n",
    "emet = df.columns[7]\n",
    "gimel = df.columns[8]\n",
    "elementar_cols = df.columns.tolist()[:7]\n",
    "general_cols = df.columns.tolist()[:7]+[tav,benet,naz,emet,gimel]\n",
    "parties_cols = df.columns[7:]\n",
    "bigs = sums[mask].index.tolist()\n",
    "smalls = sums[~mask].index.tolist()\n",
    "\n"
   ]
  },
  {
   "cell_type": "code",
   "execution_count": null,
   "metadata": {},
   "outputs": [],
   "source": [
    "fractions = (df.loc[:,parties_cols].values.T/total.values).T\n",
    "fractions = pd.DataFrame(fractions,columns = parties_cols)\n",
    "fractions_df = df.copy()\n",
    "fractions_df.loc[:,parties_cols] = fractions.values"
   ]
  },
  {
   "cell_type": "code",
   "execution_count": null,
   "metadata": {},
   "outputs": [],
   "source": [
    "mask=((fractions_df[meretz]>0.2)&(df[meretz]>=50)&(fractions_df[likud]<0.1))\n",
    "df.loc[mask,elementar_cols+bigs]"
   ]
  },
  {
   "cell_type": "code",
   "execution_count": null,
   "metadata": {},
   "outputs": [],
   "source": [
    "mask = (df[naz]>10)&(df[naz]>df[benet])\n",
    "df.loc[mask,general_cols]\n",
    "mask = (df[tav]>50)&(df[benet]<10)\n",
    "pd.set_option('display.max_rows', 500)\n",
    "df.loc[mask,general_cols]"
   ]
  },
  {
   "cell_type": "code",
   "execution_count": null,
   "metadata": {
    "scrolled": true
   },
   "outputs": [],
   "source": [
    "mask = fractions_df[meretz]>0.3\n",
    "df.loc[mask,elementar_cols+bigs]"
   ]
  },
  {
   "cell_type": "code",
   "execution_count": null,
   "metadata": {},
   "outputs": [],
   "source": [
    "mask=(fractions_df[tav]>0.3)&(fractions_df[benet]<0.05)\n",
    "df.loc[mask,elementar_cols+bigs]\n"
   ]
  },
  {
   "cell_type": "code",
   "execution_count": null,
   "metadata": {},
   "outputs": [],
   "source": [
    "mask =(fractions_df.loc[:,smalls].max(axis=1)>0.05)\n",
    "df.loc[mask,elementar_cols+nun_cols+bigs]"
   ]
  },
  {
   "cell_type": "code",
   "execution_count": null,
   "metadata": {},
   "outputs": [],
   "source": [
    "mask =(fractions_df.loc[:,smalls].max(axis=1)>0.05)\n",
    "argmaxis=fractions_df.loc[mask,smalls].T.idxmax()\n",
    "maxis=fractions_df.loc[mask,smalls].T.max()\n",
    "maxis2 = df.loc[mask,smalls].T.max()\n",
    "pd.set_option('display.max_rows', 500)\n",
    "pd.concat([df.loc[mask,elementar_cols],argmaxis,maxis,maxis2,df.loc[mask,:].iloc[:,24]],axis=1)"
   ]
  },
  {
   "cell_type": "code",
   "execution_count": null,
   "metadata": {},
   "outputs": [],
   "source": [
    "amital=[768,860,864,865,867,868]\n",
    "mamad_hs = [850,851,857,858,854,871]\n",
    "ramon = [853,855,856,959]\n",
    "hs = amital+ mamad_hs+ramon"
   ]
  },
  {
   "cell_type": "code",
   "execution_count": null,
   "metadata": {},
   "outputs": [],
   "source": [
    "df.iloc[6058,:]"
   ]
  },
  {
   "cell_type": "code",
   "execution_count": null,
   "metadata": {},
   "outputs": [],
   "source": [
    "har_home_mask = (df.iloc[:,1]==3000)&(df.iloc[:,2].isin(hs))\n",
    "m= df.loc[har_home_mask,parties_cols].sum().sort_values(ascending = False)\n",
    "m/m.sum()"
   ]
  },
  {
   "cell_type": "code",
   "execution_count": null,
   "metadata": {},
   "outputs": [],
   "source": [
    "df_fraction.loc[:,parties_cols].div(total,axis=1)"
   ]
  },
  {
   "cell_type": "code",
   "execution_count": null,
   "metadata": {},
   "outputs": [],
   "source": [
    "nun_max = df.loc[:,nun_cols].max(axis=1)\n",
    "nun_mask = (nun_max>30)&(nun_max>2*df[benet])"
   ]
  },
  {
   "cell_type": "code",
   "execution_count": null,
   "metadata": {},
   "outputs": [],
   "source": [
    "df.loc[nun_mask,general_cols]"
   ]
  },
  {
   "cell_type": "code",
   "execution_count": null,
   "metadata": {},
   "outputs": [],
   "source": [
    "emet_mask = (df[emet]>30)&(emet_fraction>0.3)\n",
    "df.loc[emet_mask,general_cols]"
   ]
  },
  {
   "cell_type": "code",
   "execution_count": null,
   "metadata": {},
   "outputs": [],
   "source": [
    "meretz_mask = (df[meretz]>30)&(meretz_fraction>0.3)"
   ]
  },
  {
   "cell_type": "code",
   "execution_count": null,
   "metadata": {},
   "outputs": [],
   "source": [
    "emet_mask.sum()"
   ]
  },
  {
   "cell_type": "code",
   "execution_count": null,
   "metadata": {},
   "outputs": [],
   "source": [
    "meretz_mask.sum()"
   ]
  },
  {
   "cell_type": "code",
   "execution_count": null,
   "metadata": {},
   "outputs": [],
   "source": [
    "df.loc[emet_mask,general_cols]"
   ]
  },
  {
   "cell_type": "code",
   "execution_count": null,
   "metadata": {},
   "outputs": [],
   "source": [
    "mask_naz = (df[naz]>10)&(df[naz]>df[benet])"
   ]
  },
  {
   "cell_type": "code",
   "execution_count": null,
   "metadata": {},
   "outputs": [],
   "source": [
    "df.loc[mask_naz,general_cols]"
   ]
  },
  {
   "cell_type": "code",
   "execution_count": null,
   "metadata": {},
   "outputs": [],
   "source": [
    "mask_tav = (df[tav]>30)&(df[benet]<0.15*df[tav])\n",
    "df.loc[mask_tav,general_cols]"
   ]
  },
  {
   "cell_type": "code",
   "execution_count": null,
   "metadata": {},
   "outputs": [],
   "source": [
    "mask_meretz = (df[meretz]>10)&(df[tav]>df[meretz])&(df[meretz]>df[benet])"
   ]
  },
  {
   "cell_type": "code",
   "execution_count": null,
   "metadata": {},
   "outputs": [],
   "source": [
    "mask_meretz.sum()"
   ]
  },
  {
   "cell_type": "code",
   "execution_count": null,
   "metadata": {},
   "outputs": [],
   "source": [
    "df.loc[mask_naz,general_cols]"
   ]
  },
  {
   "cell_type": "code",
   "execution_count": null,
   "metadata": {},
   "outputs": [],
   "source": []
  },
  {
   "cell_type": "code",
   "execution_count": null,
   "metadata": {},
   "outputs": [],
   "source": [
    "1135+1119+257+247+192+191+172+159+155+152+142+138+117+74"
   ]
  },
  {
   "cell_type": "code",
   "execution_count": null,
   "metadata": {},
   "outputs": [],
   "source": [
    "(26.83+3.76)/41"
   ]
  },
  {
   "cell_type": "code",
   "execution_count": null,
   "metadata": {},
   "outputs": [],
   "source": [
    "8.21/11"
   ]
  },
  {
   "cell_type": "code",
   "execution_count": null,
   "metadata": {},
   "outputs": [],
   "source": [
    "4.2917*3.25"
   ]
  },
  {
   "cell_type": "code",
   "execution_count": null,
   "metadata": {},
   "outputs": [],
   "source": [
    "(1135+159)/41\n"
   ]
  },
  {
   "cell_type": "code",
   "execution_count": null,
   "metadata": {},
   "outputs": [],
   "source": [
    "(155.5+192)/11"
   ]
  },
  {
   "cell_type": "code",
   "execution_count": null,
   "metadata": {},
   "outputs": [],
   "source": [
    "6339729*0.714*0.0325"
   ]
  },
  {
   "cell_type": "code",
   "execution_count": null,
   "metadata": {},
   "outputs": [],
   "source": [
    "df.columns"
   ]
  },
  {
   "cell_type": "code",
   "execution_count": null,
   "metadata": {},
   "outputs": [],
   "source": [
    "smalls= df.iloc[:,7:].sum().sort_values(ascending =False)"
   ]
  },
  {
   "cell_type": "code",
   "execution_count": null,
   "metadata": {},
   "outputs": [],
   "source": [
    "q = df.astype(str)"
   ]
  },
  {
   "cell_type": "code",
   "execution_count": null,
   "metadata": {},
   "outputs": [],
   "source": [
    "m = q.sum(axis=1)"
   ]
  },
  {
   "cell_type": "code",
   "execution_count": null,
   "metadata": {},
   "outputs": [],
   "source": [
    "(q.iloc[:,1]+\" \"+q.iloc[:,2]).value_counts()"
   ]
  },
  {
   "cell_type": "code",
   "execution_count": null,
   "metadata": {},
   "outputs": [],
   "source": [
    "q.columns"
   ]
  },
  {
   "cell_type": "code",
   "execution_count": null,
   "metadata": {},
   "outputs": [],
   "source": [
    "df"
   ]
  },
  {
   "cell_type": "code",
   "execution_count": null,
   "metadata": {},
   "outputs": [],
   "source": [
    "mask = (df.iloc[:,4]==413)&(df.iloc[:,5]==1)"
   ]
  },
  {
   "cell_type": "code",
   "execution_count": null,
   "metadata": {},
   "outputs": [],
   "source": [
    "df.loc[mask,:]"
   ]
  },
  {
   "cell_type": "code",
   "execution_count": null,
   "metadata": {},
   "outputs": [],
   "source": [
    "import scipy.io\n",
    "mat = scipy.io.loadmat(r\"C:\\Users\\zwecher\\Downloads\\descriptor2.mat\")\n",
    "data=mat['descriptor']\n",
    "index = pd.DatetimeIndex(start = datetime(2019,1,1),freq = '10s',periods=1122)\n",
    "df = pd.DataFrame(data=data)\n",
    "df.columns = ['fundamental_frequency','wavelet_entropy','pressure','level','rpm']\n",
    "df['Timestamp'] = index\n",
    "df = df.loc[:, ['Timestamp','fundamental_frequency','wavelet_entropy','pressure','level','rpm']]"
   ]
  },
  {
   "cell_type": "code",
   "execution_count": null,
   "metadata": {},
   "outputs": [],
   "source": [
    "from scout.stat_utils import queries"
   ]
  },
  {
   "cell_type": "code",
   "execution_count": null,
   "metadata": {},
   "outputs": [],
   "source": [
    "import sqlite3"
   ]
  },
  {
   "cell_type": "code",
   "execution_count": null,
   "metadata": {},
   "outputs": [],
   "source": [
    "queries.csv_to_sql(df,r\"C:\\Users\\zwecher\\Documents\\mygit\\sli_scout\\scout\\stat_tests\\suitcase.db\",\"SensorsData\")"
   ]
  },
  {
   "cell_type": "code",
   "execution_count": null,
   "metadata": {},
   "outputs": [],
   "source": []
  }
 ],
 "metadata": {
  "kernelspec": {
   "display_name": "Python [conda env:anaconda3]",
   "language": "python",
   "name": "conda-env-anaconda3-py"
  },
  "language_info": {
   "codemirror_mode": {
    "name": "ipython",
    "version": 3
   },
   "file_extension": ".py",
   "mimetype": "text/x-python",
   "name": "python",
   "nbconvert_exporter": "python",
   "pygments_lexer": "ipython3",
   "version": "3.6.5"
  }
 },
 "nbformat": 4,
 "nbformat_minor": 2
}

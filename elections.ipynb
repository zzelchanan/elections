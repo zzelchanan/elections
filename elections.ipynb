{
 "cells": [
  {
   "cell_type": "markdown",
   "metadata": {},
   "source": [
    "## Finding outliers in elections results"
   ]
  },
  {
   "cell_type": "code",
   "execution_count": null,
   "metadata": {},
   "outputs": [],
   "source": [
    "import numpy as np, pandas as pd\n",
    "pd.set_option('display.max_rows', 500)\n",
    "df = pd.read_csv(r\"elections_final.csv\",encoding = \"cp1255\")\n"
   ]
  },
  {
   "cell_type": "code",
   "execution_count": null,
   "metadata": {},
   "outputs": [],
   "source": [
    "print(\"num of kalpis: {}\".format(len(df)))"
   ]
  },
  {
   "cell_type": "markdown",
   "metadata": {},
   "source": [
    "### assign latin names to columns"
   ]
  },
  {
   "cell_type": "code",
   "execution_count": null,
   "metadata": {},
   "outputs": [],
   "source": [
    "tav = df.columns[16]\n",
    "naz = df.columns[27]\n",
    "meretz = df.columns[25]\n",
    "likud = df.columns[24]\n",
    "liberman = df.columns[23]\n",
    "benet = df.columns[26]\n",
    "nun_cols = df.columns[[27,28,29,31]].tolist()\n",
    "emet = df.columns[7]\n",
    "gimel = df.columns[8]\n",
    "elementar_cols = df.columns.tolist()[:7]\n",
    "general_cols = df.columns.tolist()[:7]+[tav,benet,naz,emet,gimel]\n",
    "parties_cols = df.columns[7:]\n",
    "sums=df.loc[:,parties_cols].sum()\n",
    "mask = sums>50000\n",
    "bigs = sums[mask].index.tolist()\n",
    "smalls = sums[~mask].index.tolist()\n",
    "\n"
   ]
  },
  {
   "cell_type": "markdown",
   "metadata": {},
   "source": [
    "### First try: whether the votes for bennet have been assigned as a mistake to the nearby columns \"naz\".\n",
    "The condition: naz is bigger than ten and is also bigger than Bennet"
   ]
  },
  {
   "cell_type": "code",
   "execution_count": null,
   "metadata": {},
   "outputs": [],
   "source": [
    "df = pd.read_csv(r\"elections_final.csv\",encoding = \"cp1255\")\n",
    "mask = (df[naz]>10)&(df[naz]>df[benet])\n",
    "df.loc[mask,general_cols]\n"
   ]
  },
  {
   "cell_type": "markdown",
   "metadata": {},
   "source": [
    "#### Very few: 3 of 10422. The analysts states: \"Only Kibutz and arab vilages. Interesting, but no potential to the new right\"\n",
    "#### lets do it again with the results of the first day after the election"
   ]
  },
  {
   "cell_type": "code",
   "execution_count": null,
   "metadata": {},
   "outputs": [],
   "source": [
    "df = pd.read_csv(r\"elections_20190410.csv\",encoding = \"cp1255\")\n",
    "mask = (df[naz]>10)&(df[naz]>df[benet])\n",
    "df.loc[mask,general_cols]\n",
    "#df = pd.read_csv(r\"elections_final.csv\",encoding = \"cp1255\")"
   ]
  },
  {
   "cell_type": "markdown",
   "metadata": {},
   "source": [
    "###### Afula and Givot Bar is probably a mistake (Sdom, not Helem). However, it has been fixed since 10/04/2019."
   ]
  },
  {
   "cell_type": "markdown",
   "metadata": {},
   "source": [
    "## Correlations -Second try\n",
    "Lets utilize the linear correlation between \"tav\" and \"bennet\". In fact, lets look on the maximum correlation per party"
   ]
  },
  {
   "cell_type": "code",
   "execution_count": null,
   "metadata": {},
   "outputs": [],
   "source": [
    "df = pd.read_csv(r\"elections_final.csv\",encoding = \"cp1255\")\n",
    "corr=df.loc[:,bigs].corr()\n",
    "mask = corr!=1\n",
    "max_corr_party =corr[mask].idxmax()\n",
    "max_corr_val = corr[mask].max()\n",
    "corr_maxis = pd.concat([max_corr_party,max_corr_val],axis=1)\n",
    "corr_maxis.columns = [\"max_corr_party\",\"max_corr_val\"]\n",
    "corr_maxis"
   ]
  },
  {
   "cell_type": "markdown",
   "metadata": {},
   "source": [
    "#### o.k. Tav and New right are strongly correlated\n",
    "#### Lets find places where tav is big and new right is small. It may be a mistake!"
   ]
  },
  {
   "cell_type": "code",
   "execution_count": null,
   "metadata": {},
   "outputs": [],
   "source": [
    "df = pd.read_csv(r\"elections_final.csv\",encoding = \"cp1255\")\n",
    "mask = (df[tav]>30)&(df[benet]<0.15*df[tav])\n",
    "pd.set_option('display.max_rows', 500)\n",
    "print(\"num of suspected calpis: {}\".format(mask.sum()))\n",
    "df.loc[mask,general_cols]"
   ]
  },
  {
   "cell_type": "markdown",
   "metadata": {},
   "source": [
    "##### 151 calpis! However, it is easy to see that most, probably all, are from neighbourhood of concentrations of ultra orthodox (Hardal, haredi or Habad). Dividing the calpis to places we get:"
   ]
  },
  {
   "cell_type": "code",
   "execution_count": null,
   "metadata": {},
   "outputs": [],
   "source": [
    "df.loc[mask,general_cols[0]].value_counts()"
   ]
  },
  {
   "cell_type": "markdown",
   "metadata": {},
   "source": [
    "#### Third try: lets look whether one of the small parties (not only naz), get a significant percentage of the votes"
   ]
  },
  {
   "cell_type": "markdown",
   "metadata": {},
   "source": [
    "### create perecantage dataframe"
   ]
  },
  {
   "cell_type": "code",
   "execution_count": null,
   "metadata": {},
   "outputs": [],
   "source": [
    "total = df.loc[:,parties_cols].sum(axis=1)\n",
    "fractions = (df.loc[:,parties_cols].values.T/total.values).T\n",
    "fractions = pd.DataFrame(fractions,columns = parties_cols)\n",
    "fractions_df = df.copy()\n",
    "fractions_df.loc[:,parties_cols] = fractions.values"
   ]
  },
  {
   "cell_type": "markdown",
   "metadata": {},
   "source": [
    "#### Looking for outliers: small party with high percentage "
   ]
  },
  {
   "cell_type": "code",
   "execution_count": null,
   "metadata": {},
   "outputs": [],
   "source": [
    "mask =(fractions_df.loc[:,smalls].max(axis=1)>0.05)\n",
    "argmaxis=fractions_df.loc[mask,smalls].T.idxmax()\n",
    "maxis=fractions_df.loc[mask,smalls].T.max()\n",
    "maxis2 = df.loc[mask,smalls].T.max()\n",
    "pd.set_option('display.max_rows', 500)\n",
    "pd.concat([df.loc[mask,elementar_cols],argmaxis,maxis,maxis2,df.loc[mask,:].iloc[:,24]],axis=1)"
   ]
  },
  {
   "cell_type": "markdown",
   "metadata": {},
   "source": [
    "#### These are not the places of new right. Lets look at the interesting calpi with index 6058"
   ]
  },
  {
   "cell_type": "code",
   "execution_count": null,
   "metadata": {},
   "outputs": [],
   "source": [
    "df.iloc[6058,:]"
   ]
  },
  {
   "cell_type": "markdown",
   "metadata": {},
   "source": [
    "#### BlueWhite is zero and a strange family whose letters are final caf and final nun got 91 votes. Thats a mistake, but the mistake is not important. Blue white cannot achieve or lose mandat in any case."
   ]
  },
  {
   "cell_type": "code",
   "execution_count": null,
   "metadata": {},
   "outputs": [],
   "source": []
  }
 ],
 "metadata": {
  "kernelspec": {
   "display_name": "Python [conda env:anaconda3]",
   "language": "python",
   "name": "conda-env-anaconda3-py"
  },
  "language_info": {
   "codemirror_mode": {
    "name": "ipython",
    "version": 3
   },
   "file_extension": ".py",
   "mimetype": "text/x-python",
   "name": "python",
   "nbconvert_exporter": "python",
   "pygments_lexer": "ipython3",
   "version": "3.6.5"
  }
 },
 "nbformat": 4,
 "nbformat_minor": 2
}
